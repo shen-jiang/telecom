{
 "cells": [
  {
   "cell_type": "code",
   "execution_count": 2,
   "metadata": {},
   "outputs": [],
   "source": [
    "import os\n",
    "import pandas as pd\n",
    "\n",
    "import lightgbm as lgb\n",
    "import numpy as np\n",
    "from sklearn.metrics import f1_score"
   ]
  },
  {
   "cell_type": "code",
   "execution_count": 3,
   "metadata": {},
   "outputs": [
    {
     "name": "stderr",
     "output_type": "stream",
     "text": [
      "C:\\Users\\JS\\Anaconda3\\lib\\site-packages\\IPython\\core\\interactiveshell.py:2728: DtypeWarning: Columns (4,5) have mixed types. Specify dtype option on import or set low_memory=False.\n",
      "  interactivity=interactivity, compiler=compiler, result=result)\n",
      "C:\\Users\\JS\\Anaconda3\\lib\\site-packages\\IPython\\core\\interactiveshell.py:2728: DtypeWarning: Columns (4) have mixed types. Specify dtype option on import or set low_memory=False.\n",
      "  interactivity=interactivity, compiler=compiler, result=result)\n"
     ]
    }
   ],
   "source": [
    "path = r'C:\\Users\\JS\\Desktop\\tele'\n",
    "\n",
    "w2v_path = path + '/w2v'\n",
    "train = pd.read_csv(path + '/train_2.csv')\n",
    "test = pd.read_csv(path + '/test_2.csv')"
   ]
  },
  {
   "cell_type": "code",
   "execution_count": 4,
   "metadata": {},
   "outputs": [
    {
     "name": "stderr",
     "output_type": "stream",
     "text": [
      "C:\\Users\\JS\\Anaconda3\\lib\\site-packages\\IPython\\core\\interactiveshell.py:2728: DtypeWarning: Columns (4,5,20,21) have mixed types. Specify dtype option on import or set low_memory=False.\n",
      "  interactivity=interactivity, compiler=compiler, result=result)\n"
     ]
    }
   ],
   "source": [
    "train_first = pd.read_csv(path + '/train_all.csv')\n",
    "train['data_type'] = 0\n",
    "test['data_type'] = 0\n",
    "train_first['data_type'] = 1\n",
    "data = pd.concat([train, test, train_first], ignore_index=True).fillna(0)\n",
    "data['label'] = data.current_service.astype(int)\n",
    "data = data.replace('\\\\N', 999)\n",
    "data['gender'] = data.gender.astype(int)"
   ]
  },
  {
   "cell_type": "code",
   "execution_count": 5,
   "metadata": {},
   "outputs": [],
   "source": [
    "origin_cate_feature = ['service_type', 'complaint_level', 'contract_type', 'gender', 'is_mix_service',\n",
    "                       'is_promise_low_consume',\n",
    "                       'many_over_bill', 'net_service']\n",
    "\n",
    "origin_num_feature = ['1_total_fee', '2_total_fee', '3_total_fee', '4_total_fee',\n",
    "                      'age', 'contract_time',\n",
    "                      'former_complaint_fee', 'former_complaint_num',\n",
    "                      'last_month_traffic', 'local_caller_time', 'local_trafffic_month', 'month_traffic',\n",
    "                      'online_time', 'pay_num', 'pay_times', 'service1_caller_time', 'service2_caller_time']"
   ]
  },
  {
   "cell_type": "code",
   "execution_count": 6,
   "metadata": {},
   "outputs": [],
   "source": [
    "for i in origin_num_feature:\n",
    "    data[i] = data[i].astype(float)\n",
    "\n",
    "w2v_features = []\n",
    "for col in ['1_total_fee', '2_total_fee', '3_total_fee', '4_total_fee']:\n",
    "    df = pd.read_csv(w2v_path + '/' + col + '.csv')\n",
    "    df = df.drop_duplicates([col])\n",
    "    fs = list(df)\n",
    "    fs.remove(col)\n",
    "    w2v_features += fs\n",
    "    data = pd.merge(data, df, on=col, how='left')\n",
    "count_feature_list = []"
   ]
  },
  {
   "cell_type": "code",
   "execution_count": 7,
   "metadata": {},
   "outputs": [],
   "source": [
    "def feature_count(data, features=[]):\n",
    "    if len(set(features)) != len(features):\n",
    "        print('equal feature !!!!')\n",
    "        return data\n",
    "    new_feature = 'count'\n",
    "    for i in features:\n",
    "        new_feature += '_' + i.replace('add_', '')\n",
    "    try:\n",
    "        del data[new_feature]\n",
    "    except:\n",
    "        pass\n",
    "    temp = data.groupby(features).size().reset_index().rename(columns={0: new_feature})\n",
    "\n",
    "    data = data.merge(temp, 'left', on=features)\n",
    "    count_feature_list.append(new_feature)\n",
    "    return data\n"
   ]
  },
  {
   "cell_type": "code",
   "execution_count": 8,
   "metadata": {},
   "outputs": [],
   "source": [
    "data = feature_count(data, ['1_total_fee'])\n",
    "data = feature_count(data, ['2_total_fee'])\n",
    "data = feature_count(data, ['3_total_fee'])\n",
    "data = feature_count(data, ['4_total_fee'])\n",
    "\n",
    "data = feature_count(data, ['former_complaint_fee'])\n",
    "\n",
    "data = feature_count(data, ['pay_num'])\n",
    "data = feature_count(data, ['contract_time'])\n",
    "data = feature_count(data, ['last_month_traffic'])\n",
    "data = feature_count(data, ['online_time'])"
   ]
  },
  {
   "cell_type": "code",
   "execution_count": 9,
   "metadata": {},
   "outputs": [],
   "source": [
    "for i in ['service_type', 'contract_type']:\n",
    "    data = feature_count(data, [i, '1_total_fee'])\n",
    "    data = feature_count(data, [i, '2_total_fee'])\n",
    "    data = feature_count(data, [i, '3_total_fee'])\n",
    "    data = feature_count(data, [i, '4_total_fee'])\n",
    "\n",
    "    data = feature_count(data, [i, 'former_complaint_fee'])\n",
    "\n",
    "    data = feature_count(data, [i, 'pay_num'])\n",
    "    data = feature_count(data, [i, 'contract_time'])\n",
    "    data = feature_count(data, [i, 'last_month_traffic'])\n",
    "    data = feature_count(data, [i, 'online_time'])"
   ]
  },
  {
   "cell_type": "markdown",
   "metadata": {},
   "source": [
    "### Difference features"
   ]
  },
  {
   "cell_type": "code",
   "execution_count": 10,
   "metadata": {},
   "outputs": [],
   "source": [
    "diff_feature_list = ['diff_total_fee_1', 'diff_total_fee_2', 'diff_total_fee_3', 'last_month_traffic_rest',\n",
    "                     'rest_traffic_ratio',\n",
    "                     'total_fee_mean', 'total_fee_max', 'total_fee_min', 'total_caller_time', 'service2_caller_ratio',\n",
    "                     'local_caller_ratio',\n",
    "                     'total_month_traffic', 'month_traffic_ratio', 'last_month_traffic_ratio', 'pay_num_1_total_fee',\n",
    "                     '1_total_fee_call_fee', '1_total_fee_call2_fee', '1_total_fee_trfc_fee']"
   ]
  },
  {
   "cell_type": "code",
   "execution_count": 11,
   "metadata": {},
   "outputs": [
    {
     "name": "stderr",
     "output_type": "stream",
     "text": [
      "C:\\Users\\JS\\Anaconda3\\lib\\site-packages\\ipykernel_launcher.py:8: SettingWithCopyWarning: \n",
      "A value is trying to be set on a copy of a slice from a DataFrame\n",
      "\n",
      "See the caveats in the documentation: http://pandas.pydata.org/pandas-docs/stable/indexing.html#indexing-view-versus-copy\n",
      "  \n"
     ]
    }
   ],
   "source": [
    "data['diff_total_fee_1'] = data['1_total_fee'] - data['2_total_fee']\n",
    "data['diff_total_fee_2'] = data['2_total_fee'] - data['3_total_fee']\n",
    "data['diff_total_fee_3'] = data['3_total_fee'] - data['4_total_fee']\n",
    "\n",
    "data['pay_num_1_total_fee'] = data['pay_num'] - data['1_total_fee']\n",
    "\n",
    "data['last_month_traffic_rest'] = data['month_traffic'] - data['last_month_traffic']\n",
    "data['last_month_traffic_rest'][data['last_month_traffic_rest'] < 0] = 0\n",
    "data['rest_traffic_ratio'] = (data['last_month_traffic_rest'] * 15 / 1024) / data['1_total_fee']"
   ]
  },
  {
   "cell_type": "code",
   "execution_count": 12,
   "metadata": {},
   "outputs": [],
   "source": [
    "total_fee = []\n",
    "for i in range(1, 5):\n",
    "    total_fee.append(str(i) + '_total_fee')\n",
    "data['total_fee_mean'] = data[total_fee].mean(1)\n",
    "data['total_fee_max'] = data[total_fee].max(1)\n",
    "data['total_fee_min'] = data[total_fee].min(1)\n",
    "\n",
    "data['total_caller_time'] = data['service2_caller_time'] + data['service1_caller_time']\n",
    "data['service2_caller_ratio'] = data['service2_caller_time'] / data['total_caller_time']\n",
    "data['local_caller_ratio'] = data['local_caller_time'] / data['total_caller_time']\n",
    "\n",
    "data['total_month_traffic'] = data['local_trafffic_month'] + data['month_traffic']\n",
    "data['month_traffic_ratio'] = data['month_traffic'] / data['total_month_traffic']\n",
    "data['last_month_traffic_ratio'] = data['last_month_traffic'] / data['total_month_traffic']\n",
    "\n",
    "data['1_total_fee_call_fee'] = data['1_total_fee'] - data['service1_caller_time'] * 0.15\n",
    "data['1_total_fee_call2_fee'] = data['1_total_fee'] - data['service2_caller_time'] * 0.15\n",
    "data['1_total_fee_trfc_fee'] = data['1_total_fee'] - (\n",
    "        data['month_traffic'] - 2 * data['last_month_traffic']) * 0.3\n",
    "\n",
    "data.loc[data.service_type == 1, '1_total_fee_trfc_fee'] = None"
   ]
  },
  {
   "cell_type": "code",
   "execution_count": 13,
   "metadata": {},
   "outputs": [
    {
     "name": "stdout",
     "output_type": "stream",
     "text": [
      "110 ['service_type', 'complaint_level', 'contract_type', 'gender', 'is_mix_service', 'is_promise_low_consume', 'many_over_bill', 'net_service', '1_total_fee', '2_total_fee', '3_total_fee', '4_total_fee', 'age', 'contract_time', 'former_complaint_fee', 'former_complaint_num', 'last_month_traffic', 'local_caller_time', 'local_trafffic_month', 'month_traffic', 'online_time', 'pay_num', 'pay_times', 'service1_caller_time', 'service2_caller_time', 'count_1_total_fee', 'count_2_total_fee', 'count_3_total_fee', 'count_4_total_fee', 'count_former_complaint_fee', 'count_pay_num', 'count_contract_time', 'count_last_month_traffic', 'count_online_time', 'count_service_type_1_total_fee', 'count_service_type_2_total_fee', 'count_service_type_3_total_fee', 'count_service_type_4_total_fee', 'count_service_type_former_complaint_fee', 'count_service_type_pay_num', 'count_service_type_contract_time', 'count_service_type_last_month_traffic', 'count_service_type_online_time', 'count_contract_type_1_total_fee', 'count_contract_type_2_total_fee', 'count_contract_type_3_total_fee', 'count_contract_type_4_total_fee', 'count_contract_type_former_complaint_fee', 'count_contract_type_pay_num', 'count_contract_type_contract_time', 'count_contract_type_last_month_traffic', 'count_contract_type_online_time', 'diff_total_fee_1', 'diff_total_fee_2', 'diff_total_fee_3', 'last_month_traffic_rest', 'rest_traffic_ratio', 'total_fee_mean', 'total_fee_max', 'total_fee_min', 'total_caller_time', 'service2_caller_ratio', 'local_caller_ratio', 'total_month_traffic', 'month_traffic_ratio', 'last_month_traffic_ratio', 'pay_num_1_total_fee', '1_total_fee_call_fee', '1_total_fee_call2_fee', '1_total_fee_trfc_fee', '1_total_feeW0', '1_total_feeW1', '1_total_feeW2', '1_total_feeW3', '1_total_feeW4', '1_total_feeW5', '1_total_feeW6', '1_total_feeW7', '1_total_feeW8', '1_total_feeW9', '2_total_feeW0', '2_total_feeW1', '2_total_feeW2', '2_total_feeW3', '2_total_feeW4', '2_total_feeW5', '2_total_feeW6', '2_total_feeW7', '2_total_feeW8', '2_total_feeW9', '3_total_feeW0', '3_total_feeW1', '3_total_feeW2', '3_total_feeW3', '3_total_feeW4', '3_total_feeW5', '3_total_feeW6', '3_total_feeW7', '3_total_feeW8', '3_total_feeW9', '4_total_feeW0', '4_total_feeW1', '4_total_feeW2', '4_total_feeW3', '4_total_feeW4', '4_total_feeW5', '4_total_feeW6', '4_total_feeW7', '4_total_feeW8', '4_total_feeW9']\n"
     ]
    }
   ],
   "source": [
    "cate_feature = origin_cate_feature\n",
    "num_feature = origin_num_feature + count_feature_list + diff_feature_list + w2v_features\n",
    "for i in cate_feature:\n",
    "    data[i] = data[i].astype('category')\n",
    "for i in num_feature:\n",
    "    data[i] = data[i].astype(float)\n",
    "\n",
    "feature = cate_feature + num_feature\n",
    "\n",
    "print(len(feature), feature)"
   ]
  },
  {
   "cell_type": "code",
   "execution_count": 14,
   "metadata": {},
   "outputs": [],
   "source": [
    "data = data[data.label != 999999]\n",
    "\n",
    "train_x = data[(data.data_type == 1)][feature]\n",
    "train_y = data[(data.data_type == 1)].label\n",
    "\n",
    "test_x = data[(data.data_type == 0) & (data.label != 0)][feature]\n",
    "test_y = data[(data.data_type == 0) & (data.label != 0)].label\n"
   ]
  },
  {
   "cell_type": "code",
   "execution_count": 15,
   "metadata": {},
   "outputs": [
    {
     "name": "stderr",
     "output_type": "stream",
     "text": [
      "C:\\Users\\JS\\Anaconda3\\lib\\site-packages\\lightgbm\\basic.py:1190: UserWarning: categorical_feature in Dataset is overridden.\n",
      "New categorical_feature is ['complaint_level', 'contract_type', 'gender', 'is_mix_service', 'is_promise_low_consume', 'many_over_bill', 'net_service', 'service_type']\n",
      "  'New categorical_feature is {}'.format(sorted(list(categorical_feature))))\n"
     ]
    },
    {
     "name": "stdout",
     "output_type": "stream",
     "text": [
      "defaultdict(<class 'dict'>, {})\n"
     ]
    }
   ],
   "source": [
    "lgb_model = lgb.LGBMClassifier(\n",
    "    boosting_type=\"gbdt\", num_leaves=120, reg_alpha=0, reg_lambda=0.,\n",
    "    max_depth=-1, n_estimators=2500, objective='multiclass', metric=\"None\",\n",
    "    subsample=0.9, colsample_bytree=0.5, subsample_freq=1,\n",
    "    learning_rate=0.035, random_state=2018, n_jobs=10\n",
    ")\n",
    "lgb_model.fit(train_x, train_y, categorical_feature=cate_feature)\n",
    "print(lgb_model.best_score_)\n"
   ]
  },
  {
   "cell_type": "code",
   "execution_count": 16,
   "metadata": {},
   "outputs": [
    {
     "name": "stdout",
     "output_type": "stream",
     "text": [
      "C:\\Users\\JS\\Desktop\\tele/stack\n",
      "374653 160566\n",
      "[0.81923441 0.94104806 0.94886443 0.99771069 0.99705176 0.96353928\n",
      " 0.93136519 0.82267743 0.76337057 0.84571766 0.54255823]\n"
     ]
    }
   ],
   "source": [
    "stacking_path = path + '/stack'\n",
    "if not os.path.exists(stacking_path):\n",
    "    print(stacking_path)\n",
    "    os.makedirs(stacking_path)\n",
    "    train_proba = lgb_model.predict_proba(test_x[feature])\n",
    "    test_proba = lgb_model.predict_proba(data[data.label == 0][feature])\n",
    "    print(len(train_proba), len(test_proba))\n",
    "    stacking_train = data[(data.data_type == 0) & (data.label != 0)][['user_id']]\n",
    "    stacking_test = data[data.label == 0][['user_id']]\n",
    "    for i in range(11):\n",
    "        stacking_train['stacking_' + str(i)] = train_proba[:, i]\n",
    "        stacking_test['stacking_' + str(i)] = test_proba[:, i]\n",
    "    stacking_train.to_csv(stacking_path + '/train.csv', index=False)\n",
    "    stacking_test.to_csv(stacking_path + '/test.csv', index=False)\n",
    "\n",
    "score = f1_score(y_true=test_y, y_pred=lgb_model.predict(test_x), average=None)\n",
    "print(score)"
   ]
  },
  {
   "cell_type": "code",
   "execution_count": null,
   "metadata": {},
   "outputs": [],
   "source": []
  }
 ],
 "metadata": {
  "kernelspec": {
   "display_name": "Python 3",
   "language": "python",
   "name": "python3"
  },
  "language_info": {
   "codemirror_mode": {
    "name": "ipython",
    "version": 3
   },
   "file_extension": ".py",
   "mimetype": "text/x-python",
   "name": "python",
   "nbconvert_exporter": "python",
   "pygments_lexer": "ipython3",
   "version": "3.6.4"
  }
 },
 "nbformat": 4,
 "nbformat_minor": 2
}
