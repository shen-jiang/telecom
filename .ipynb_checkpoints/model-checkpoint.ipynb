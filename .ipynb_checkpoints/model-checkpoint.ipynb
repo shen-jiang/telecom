{
 "cells": [
  {
   "cell_type": "code",
   "execution_count": 1,
   "metadata": {},
   "outputs": [],
   "source": [
    "import os\n",
    "import pandas as pd\n",
    "\n",
    "import lightgbm as lgb\n",
    "from sklearn.model_selection import StratifiedKFold\n",
    "import numpy as np\n",
    "from sklearn.metrics import f1_score"
   ]
  },
  {
   "cell_type": "code",
   "execution_count": 3,
   "metadata": {},
   "outputs": [
    {
     "name": "stderr",
     "output_type": "stream",
     "text": [
      "C:\\Users\\JS\\Anaconda3\\lib\\site-packages\\IPython\\core\\interactiveshell.py:2728: DtypeWarning: Columns (4,5) have mixed types. Specify dtype option on import or set low_memory=False.\n",
      "  interactivity=interactivity, compiler=compiler, result=result)\n",
      "C:\\Users\\JS\\Anaconda3\\lib\\site-packages\\IPython\\core\\interactiveshell.py:2728: DtypeWarning: Columns (4) have mixed types. Specify dtype option on import or set low_memory=False.\n",
      "  interactivity=interactivity, compiler=compiler, result=result)\n"
     ]
    },
    {
     "name": "stdout",
     "output_type": "stream",
     "text": [
      "374655 160566\n",
      "374655 160566\n"
     ]
    }
   ],
   "source": [
    "path = r'C:\\Users\\JS\\Desktop\\tele'\n",
    "\n",
    "w2v_path = path + '/w2v'\n",
    "\n",
    "train = pd.read_csv(path + '/train_2.csv')\n",
    "test = pd.read_csv(path + '/test_2.csv')\n",
    "\n",
    "train_stacking = pd.read_csv(path + '/stack/train.csv')\n",
    "test_stacking = pd.read_csv(path + '/stack/test.csv')\n",
    "print(len(train), len(test))\n",
    "train = train.merge(train_stacking, 'left', 'user_id')\n",
    "test = test.merge(test_stacking, 'left', 'user_id')\n",
    "print(len(train), len(test))"
   ]
  },
  {
   "cell_type": "code",
   "execution_count": 4,
   "metadata": {},
   "outputs": [
    {
     "name": "stderr",
     "output_type": "stream",
     "text": [
      "C:\\Users\\JS\\Anaconda3\\lib\\site-packages\\IPython\\core\\interactiveshell.py:2728: DtypeWarning: Columns (4,5,20,21) have mixed types. Specify dtype option on import or set low_memory=False.\n",
      "  interactivity=interactivity, compiler=compiler, result=result)\n"
     ]
    }
   ],
   "source": [
    "train_first = pd.read_csv(path + '/train_all.csv')\n",
    "train['data_type'] = 0\n",
    "test['data_type'] = 0\n",
    "train_first['data_type'] = 1\n",
    "data = pd.concat([train, test], ignore_index=True).fillna(0)\n",
    "train_first = train_first.fillna(0)\n",
    "data['label'] = data.current_service.astype(int)\n",
    "data = data.replace('\\\\N', 0)\n",
    "train_first = train_first.replace('\\\\N', 0)\n",
    "data['gender'] = data.gender.astype(int)\n",
    "train_first['gender'] = train_first.gender.astype(int)\n",
    "\n",
    "data.loc[data['service_type'] == 3, 'service_type'] = 4"
   ]
  },
  {
   "cell_type": "code",
   "execution_count": 5,
   "metadata": {},
   "outputs": [],
   "source": [
    "origin_cate_feature = ['service_type', 'complaint_level', 'contract_type', 'gender', 'is_mix_service',\n",
    "                       'is_promise_low_consume',\n",
    "                       'many_over_bill', 'net_service']\n",
    "\n",
    "origin_num_feature = ['1_total_fee', '2_total_fee', '3_total_fee', '4_total_fee',\n",
    "                      'age', 'contract_time',\n",
    "                      'former_complaint_fee', 'former_complaint_num',\n",
    "                      'last_month_traffic', 'local_caller_time', 'local_trafffic_month', 'month_traffic',\n",
    "                      'online_time', 'pay_num', 'pay_times', 'service1_caller_time', 'service2_caller_time']"
   ]
  },
  {
   "cell_type": "code",
   "execution_count": 6,
   "metadata": {},
   "outputs": [],
   "source": [
    "for i in origin_num_feature:\n",
    "    data[i] = data[i].astype(float)\n",
    "    train_first[i] = train_first[i].astype(float)\n"
   ]
  },
  {
   "cell_type": "code",
   "execution_count": 7,
   "metadata": {},
   "outputs": [
    {
     "name": "stdout",
     "output_type": "stream",
     "text": [
      "535221\n",
      "535221\n",
      "535221\n",
      "535221\n",
      "535221\n",
      "535221\n",
      "535221\n",
      "535221\n",
      "['1_total_feeW0', '1_total_feeW1', '1_total_feeW2', '1_total_feeW3', '1_total_feeW4', '1_total_feeW5', '1_total_feeW6', '1_total_feeW7', '1_total_feeW8', '1_total_feeW9', '2_total_feeW0', '2_total_feeW1', '2_total_feeW2', '2_total_feeW3', '2_total_feeW4', '2_total_feeW5', '2_total_feeW6', '2_total_feeW7', '2_total_feeW8', '2_total_feeW9', '3_total_feeW0', '3_total_feeW1', '3_total_feeW2', '3_total_feeW3', '3_total_feeW4', '3_total_feeW5', '3_total_feeW6', '3_total_feeW7', '3_total_feeW8', '3_total_feeW9', '4_total_feeW0', '4_total_feeW1', '4_total_feeW2', '4_total_feeW3', '4_total_feeW4', '4_total_feeW5', '4_total_feeW6', '4_total_feeW7', '4_total_feeW8', '4_total_feeW9']\n"
     ]
    }
   ],
   "source": [
    "w2v_features = []\n",
    "for col in ['1_total_fee', '2_total_fee', '3_total_fee', '4_total_fee']:\n",
    "    df = pd.read_csv(w2v_path + '/' + col + '.csv')\n",
    "    df = df.drop_duplicates([col])\n",
    "    fs = list(df)\n",
    "    fs.remove(col)\n",
    "    w2v_features += fs\n",
    "    print(len(data))\n",
    "    data = pd.merge(data, df, on=col, how='left')\n",
    "    print(len(data))\n",
    "print(w2v_features)\n"
   ]
  },
  {
   "cell_type": "code",
   "execution_count": 8,
   "metadata": {},
   "outputs": [],
   "source": [
    "count_feature_list = []\n",
    "\n",
    "\n",
    "def feature_count(data, features=[]):\n",
    "    if len(set(features)) != len(features):\n",
    "        print('equal feature !!!!')\n",
    "        return data\n",
    "    new_feature = 'count'\n",
    "    for i in features:\n",
    "        new_feature += '_' + i.replace('add_', '')\n",
    "    temp = data.groupby(features).size().reset_index().rename(columns={0: new_feature})\n",
    "    data = data.merge(temp, 'left', on=features)\n",
    "    count_feature_list.append(new_feature)\n",
    "    if 'service_type' in features:\n",
    "        temp_2 = train_first.groupby(features).size().reset_index().rename(columns={0: 'train_' + new_feature})\n",
    "        data = data.merge(temp_2, 'left', on=features)\n",
    "        count_feature_list.append('train_' + new_feature)\n",
    "    return data"
   ]
  },
  {
   "cell_type": "code",
   "execution_count": 9,
   "metadata": {},
   "outputs": [],
   "source": [
    "data = feature_count(data, ['1_total_fee'])\n",
    "data = feature_count(data, ['2_total_fee'])\n",
    "data = feature_count(data, ['3_total_fee'])\n",
    "data = feature_count(data, ['4_total_fee'])\n",
    "\n",
    "data = feature_count(data, ['former_complaint_fee'])\n",
    "\n",
    "data = feature_count(data, ['pay_num'])\n",
    "data = feature_count(data, ['contract_time'])\n",
    "data = feature_count(data, ['last_month_traffic'])\n",
    "data = feature_count(data, ['online_time'])"
   ]
  },
  {
   "cell_type": "code",
   "execution_count": 10,
   "metadata": {},
   "outputs": [],
   "source": [
    "for i in ['service_type', 'contract_type']:\n",
    "    data = feature_count(data, [i, '1_total_fee'])\n",
    "    data = feature_count(data, [i, '2_total_fee'])\n",
    "    data = feature_count(data, [i, '3_total_fee'])\n",
    "    data = feature_count(data, [i, '4_total_fee'])\n",
    "\n",
    "    data = feature_count(data, [i, 'former_complaint_fee'])\n",
    "\n",
    "    data = feature_count(data, [i, 'pay_num'])\n",
    "    data = feature_count(data, [i, 'contract_time'])\n",
    "    data = feature_count(data, [i, 'last_month_traffic'])\n",
    "    data = feature_count(data, [i, 'online_time'])"
   ]
  },
  {
   "cell_type": "markdown",
   "metadata": {},
   "source": [
    "### difference features"
   ]
  },
  {
   "cell_type": "code",
   "execution_count": 11,
   "metadata": {},
   "outputs": [],
   "source": [
    "diff_feature_list = ['diff_total_fee_1', 'diff_total_fee_2', 'diff_total_fee_3', 'last_month_traffic_rest',\n",
    "                     'rest_traffic_ratio',\n",
    "                     'total_fee_mean', 'total_fee_max', 'total_fee_min', 'total_caller_time', 'service2_caller_ratio',\n",
    "                     'local_caller_ratio',\n",
    "                     'total_month_traffic', 'month_traffic_ratio', 'last_month_traffic_ratio', 'pay_num_1_total_fee',\n",
    "                     '1_total_fee_call_fee', '1_total_fee_call2_fee', '1_total_fee_trfc_fee']"
   ]
  },
  {
   "cell_type": "code",
   "execution_count": 12,
   "metadata": {},
   "outputs": [
    {
     "name": "stderr",
     "output_type": "stream",
     "text": [
      "C:\\Users\\JS\\Anaconda3\\lib\\site-packages\\ipykernel_launcher.py:8: SettingWithCopyWarning: \n",
      "A value is trying to be set on a copy of a slice from a DataFrame\n",
      "\n",
      "See the caveats in the documentation: http://pandas.pydata.org/pandas-docs/stable/indexing.html#indexing-view-versus-copy\n",
      "  \n"
     ]
    }
   ],
   "source": [
    "data['diff_total_fee_1'] = data['1_total_fee'] - data['2_total_fee']\n",
    "data['diff_total_fee_2'] = data['2_total_fee'] - data['3_total_fee']\n",
    "data['diff_total_fee_3'] = data['3_total_fee'] - data['4_total_fee']\n",
    "\n",
    "data['pay_num_1_total_fee'] = data['pay_num'] - data['1_total_fee']\n",
    "\n",
    "data['last_month_traffic_rest'] = data['month_traffic'] - data['last_month_traffic']\n",
    "data['last_month_traffic_rest'][data['last_month_traffic_rest'] < 0] = 0\n",
    "data['rest_traffic_ratio'] = (data['last_month_traffic_rest'] * 15 / 1024) / data['1_total_fee']"
   ]
  },
  {
   "cell_type": "code",
   "execution_count": 13,
   "metadata": {},
   "outputs": [],
   "source": [
    "total_fee = []\n",
    "for i in range(1, 5):\n",
    "    total_fee.append(str(i) + '_total_fee')"
   ]
  },
  {
   "cell_type": "code",
   "execution_count": 14,
   "metadata": {},
   "outputs": [],
   "source": [
    "data['total_fee_mean'] = data[total_fee].mean(1)\n",
    "data['total_fee_max'] = data[total_fee].max(1)\n",
    "data['total_fee_min'] = data[total_fee].min(1)\n",
    "\n",
    "data['total_caller_time'] = data['service2_caller_time'] + data['service1_caller_time']\n",
    "data['service2_caller_ratio'] = data['service2_caller_time'] / data['total_caller_time']\n",
    "data['local_caller_ratio'] = data['local_caller_time'] / data['total_caller_time']\n",
    "\n",
    "data['total_month_traffic'] = data['local_trafffic_month'] + data['month_traffic']\n",
    "data['month_traffic_ratio'] = data['month_traffic'] / data['total_month_traffic']\n",
    "data['last_month_traffic_ratio'] = data['last_month_traffic'] / data['total_month_traffic']\n",
    "\n",
    "data['1_total_fee_call_fee'] = data['1_total_fee'] - data['service1_caller_time'] * 0.15\n",
    "data['1_total_fee_call2_fee'] = data['1_total_fee'] - data['service2_caller_time'] * 0.15\n",
    "data['1_total_fee_trfc_fee'] = data['1_total_fee'] - (\n",
    "        data['month_traffic'] - 2 * data['last_month_traffic']) * 0.3"
   ]
  },
  {
   "cell_type": "code",
   "execution_count": 15,
   "metadata": {},
   "outputs": [
    {
     "name": "stdout",
     "output_type": "stream",
     "text": [
      "130 ['service_type', 'complaint_level', 'contract_type', 'gender', 'is_mix_service', 'is_promise_low_consume', 'many_over_bill', 'net_service', '1_total_fee', '2_total_fee', '3_total_fee', '4_total_fee', 'age', 'contract_time', 'former_complaint_fee', 'former_complaint_num', 'last_month_traffic', 'local_caller_time', 'local_trafffic_month', 'month_traffic', 'online_time', 'pay_num', 'pay_times', 'service1_caller_time', 'service2_caller_time', 'count_1_total_fee', 'count_2_total_fee', 'count_3_total_fee', 'count_4_total_fee', 'count_former_complaint_fee', 'count_pay_num', 'count_contract_time', 'count_last_month_traffic', 'count_online_time', 'count_service_type_1_total_fee', 'train_count_service_type_1_total_fee', 'count_service_type_2_total_fee', 'train_count_service_type_2_total_fee', 'count_service_type_3_total_fee', 'train_count_service_type_3_total_fee', 'count_service_type_4_total_fee', 'train_count_service_type_4_total_fee', 'count_service_type_former_complaint_fee', 'train_count_service_type_former_complaint_fee', 'count_service_type_pay_num', 'train_count_service_type_pay_num', 'count_service_type_contract_time', 'train_count_service_type_contract_time', 'count_service_type_last_month_traffic', 'train_count_service_type_last_month_traffic', 'count_service_type_online_time', 'train_count_service_type_online_time', 'count_contract_type_1_total_fee', 'count_contract_type_2_total_fee', 'count_contract_type_3_total_fee', 'count_contract_type_4_total_fee', 'count_contract_type_former_complaint_fee', 'count_contract_type_pay_num', 'count_contract_type_contract_time', 'count_contract_type_last_month_traffic', 'count_contract_type_online_time', 'diff_total_fee_1', 'diff_total_fee_2', 'diff_total_fee_3', 'last_month_traffic_rest', 'rest_traffic_ratio', 'total_fee_mean', 'total_fee_max', 'total_fee_min', 'total_caller_time', 'service2_caller_ratio', 'local_caller_ratio', 'total_month_traffic', 'month_traffic_ratio', 'last_month_traffic_ratio', 'pay_num_1_total_fee', '1_total_fee_call_fee', '1_total_fee_call2_fee', '1_total_fee_trfc_fee', '1_total_feeW0', '1_total_feeW1', '1_total_feeW2', '1_total_feeW3', '1_total_feeW4', '1_total_feeW5', '1_total_feeW6', '1_total_feeW7', '1_total_feeW8', '1_total_feeW9', '2_total_feeW0', '2_total_feeW1', '2_total_feeW2', '2_total_feeW3', '2_total_feeW4', '2_total_feeW5', '2_total_feeW6', '2_total_feeW7', '2_total_feeW8', '2_total_feeW9', '3_total_feeW0', '3_total_feeW1', '3_total_feeW2', '3_total_feeW3', '3_total_feeW4', '3_total_feeW5', '3_total_feeW6', '3_total_feeW7', '3_total_feeW8', '3_total_feeW9', '4_total_feeW0', '4_total_feeW1', '4_total_feeW2', '4_total_feeW3', '4_total_feeW4', '4_total_feeW5', '4_total_feeW6', '4_total_feeW7', '4_total_feeW8', '4_total_feeW9', 'stacking_0', 'stacking_1', 'stacking_2', 'stacking_3', 'stacking_4', 'stacking_5', 'stacking_6', 'stacking_7', 'stacking_8', 'stacking_9', 'stacking_10']\n"
     ]
    }
   ],
   "source": [
    "data.loc[data.service_type == 1, '1_total_fee_trfc_fee'] = None\n",
    "\n",
    "cate_feature = origin_cate_feature\n",
    "num_feature = origin_num_feature + count_feature_list + diff_feature_list + w2v_features + ['stacking_' + str(i) for i\n",
    "                                                                                            in range(11)]\n",
    "for i in cate_feature:\n",
    "    data[i] = data[i].astype('category')\n",
    "for i in num_feature:\n",
    "    data[i] = data[i].astype(float)\n",
    "\n",
    "feature = cate_feature + num_feature\n",
    "\n",
    "print(len(feature), feature)"
   ]
  },
  {
   "cell_type": "code",
   "execution_count": 16,
   "metadata": {},
   "outputs": [
    {
     "name": "stderr",
     "output_type": "stream",
     "text": [
      "C:\\Users\\JS\\Anaconda3\\lib\\site-packages\\lightgbm\\basic.py:1190: UserWarning: categorical_feature in Dataset is overridden.\n",
      "New categorical_feature is ['complaint_level', 'contract_type', 'gender', 'is_mix_service', 'is_promise_low_consume', 'many_over_bill', 'net_service', 'service_type']\n",
      "  'New categorical_feature is {}'.format(sorted(list(categorical_feature))))\n"
     ]
    },
    {
     "name": "stdout",
     "output_type": "stream",
     "text": [
      "106801\n"
     ]
    }
   ],
   "source": [
    "lgb_model = lgb.LGBMClassifier(\n",
    "    boosting_type=\"gbdt\", num_leaves=152, reg_alpha=0, reg_lambda=0.,\n",
    "    max_depth=-1, n_estimators=1000, objective='multiclass', class_weight='balanced',\n",
    "    subsample=0.9, colsample_bytree=0.5, subsample_freq=1,\n",
    "    learning_rate=0.03, random_state=2018, n_jobs=10\n",
    ")\n",
    "lgb_model.fit(data[data.label != 0][feature], data[data.label != 0].label, categorical_feature=cate_feature)\n",
    "result_type1 = pd.DataFrame()\n",
    "result_type1['user_id'] = data[(data.label == 0) & (data.service_type == 1)]['user_id']\n",
    "result_type1['predict'] = lgb_model.predict(data[(data.label == 0) & (data.service_type == 1)][feature])\n",
    "print(len(result_type1))"
   ]
  },
  {
   "cell_type": "code",
   "execution_count": 17,
   "metadata": {},
   "outputs": [],
   "source": [
    "def f1_macro(preds, labels):\n",
    "    labels = np.argmax(labels.reshape(8, -1), axis=0)\n",
    "    score = f1_score(y_true=labels, y_pred=preds, average='macro')\n",
    "    return 'f1_macro', score ** 2, True"
   ]
  },
  {
   "cell_type": "code",
   "execution_count": 18,
   "metadata": {},
   "outputs": [],
   "source": [
    "X = data[(data.label != 0) & (data.label != 999999)][feature].reset_index(drop=True)\n",
    "y = data[(data.label != 0) & (data.label != 999999)].label.reset_index(drop=True)\n",
    "\n",
    "label2current_service = dict(\n",
    "    zip(range(0, len(set(y))), sorted(list(set(y)))))\n",
    "current_service2label = dict(\n",
    "    zip(sorted(list(set(y))), range(0, len(set(y)))))"
   ]
  },
  {
   "cell_type": "code",
   "execution_count": 19,
   "metadata": {},
   "outputs": [
    {
     "name": "stdout",
     "output_type": "stream",
     "text": [
      "0\n",
      "[99999830 99999828 99999827 99999826 89950168 99999825 89950166 89950167]\n"
     ]
    },
    {
     "name": "stderr",
     "output_type": "stream",
     "text": [
      "C:\\Users\\JS\\Anaconda3\\lib\\site-packages\\lightgbm\\basic.py:1190: UserWarning: categorical_feature in Dataset is overridden.\n",
      "New categorical_feature is ['complaint_level', 'contract_type', 'gender', 'is_mix_service', 'is_promise_low_consume', 'many_over_bill', 'net_service', 'service_type']\n",
      "  'New categorical_feature is {}'.format(sorted(list(categorical_feature))))\n"
     ]
    },
    {
     "name": "stdout",
     "output_type": "stream",
     "text": [
      "1\n",
      "[99999827 89950167 89950166 99999826 99999828 89950168 99999830 99999825]\n",
      "2\n",
      "[89950167 89950166 99999828 99999826 99999830 99999827 89950168 99999825]\n",
      "3\n",
      "[99999828 99999826 89950167 89950166 99999830 89950168 99999827 99999825]\n",
      "4\n",
      "[89950166 99999828 89950167 99999827 99999826 99999830 89950168 99999825]\n"
     ]
    }
   ],
   "source": [
    "cv_pred = []\n",
    "skf = StratifiedKFold(n_splits=5, random_state=20181, shuffle=True)\n",
    "for index, (train_index, test_index) in enumerate(skf.split(X, y)):\n",
    "    print(index)\n",
    "    lgb_model = lgb.LGBMClassifier(\n",
    "        boosting_type=\"gbdt\", num_leaves=120, reg_alpha=0, reg_lambda=0.,\n",
    "        max_depth=-1, n_estimators=800, objective='multiclass', class_weight='balanced',\n",
    "        subsample=0.9, colsample_bytree=0.5, subsample_freq=1,\n",
    "        learning_rate=0.03, random_state=2018 + index, n_jobs=10, metric=\"None\", importance_type='gain'\n",
    "    )\n",
    "    train_x, test_x, train_y, test_y = X.loc[train_index], X.loc[test_index], y.loc[train_index], y.loc[test_index]\n",
    "\n",
    "    train_x = train_x[train_x.service_type == 4]\n",
    "    train_y = train_y[(train_x.service_type == 4).index]\n",
    "    test_x = test_x[test_x.service_type == 4]\n",
    "    test_y = test_y[(test_x.service_type == 4).index]\n",
    "    print(test_y.unique())\n",
    "\n",
    "    eval_set = [(test_x, test_y)]\n",
    "    lgb_model.fit(train_x, train_y, categorical_feature=cate_feature)\n",
    "    y_test = lgb_model.predict(data[(data.label == 0) & (data.service_type != 1)][feature])\n",
    "    y_test = pd.Series(y_test).map(current_service2label)\n",
    "    if index == 0:\n",
    "        cv_pred = np.array(y_test).reshape(-1, 1)\n",
    "    else:\n",
    "        cv_pred = np.hstack((cv_pred, np.array(y_test).reshape(-1, 1)))"
   ]
  },
  {
   "cell_type": "code",
   "execution_count": 20,
   "metadata": {},
   "outputs": [
    {
     "name": "stdout",
     "output_type": "stream",
     "text": [
      "160566 90063345    93155\n",
      "89950167    16567\n",
      "89950166    11960\n",
      "90109916     8000\n",
      "99999828     7329\n",
      "90155946     5646\n",
      "99999830     4208\n",
      "99999826     4199\n",
      "99999827     3734\n",
      "89950168     3085\n",
      "99999825     2682\n",
      "999999          1\n",
      "Name: predict, dtype: int64\n",
      "                 user_id   predict\n",
      "374655  013mNJ4xUaAzRLG9  90063345\n",
      "374656  013oEGVd7HIWtvPZ  90063345\n",
      "374657  0156TRH7IzXNh8pj  99999830\n",
      "374658  019EdSRKXsYDvGNM  89950166\n",
      "374659  019SyqXtp24FW5gx  89950167\n"
     ]
    }
   ],
   "source": [
    "submit = []\n",
    "for line in cv_pred:\n",
    "    submit.append(np.argmax(np.bincount(line)))\n",
    "result = pd.DataFrame()\n",
    "result['user_id'] = data[(data.label == 0) & (data.service_type != 1)]['user_id']\n",
    "result['predict'] = submit\n",
    "result['predict'] = result['predict'].map(label2current_service)\n",
    "result.loc[result['user_id'] == '4VNcD6kE0sjnAvFX', 'predict'] = 999999\n",
    "result = result.append(result_type1)\n",
    "\n",
    "print(len(result), result.predict.value_counts())\n",
    "print(result.sort_values('user_id').head())\n",
    "result[['user_id', 'predict']].to_csv(\n",
    "    path + '/sub.csv', index=False)"
   ]
  },
  {
   "cell_type": "code",
   "execution_count": null,
   "metadata": {},
   "outputs": [],
   "source": []
  }
 ],
 "metadata": {
  "kernelspec": {
   "display_name": "Python 3",
   "language": "python",
   "name": "python3"
  },
  "language_info": {
   "codemirror_mode": {
    "name": "ipython",
    "version": 3
   },
   "file_extension": ".py",
   "mimetype": "text/x-python",
   "name": "python",
   "nbconvert_exporter": "python",
   "pygments_lexer": "ipython3",
   "version": "3.6.4"
  }
 },
 "nbformat": 4,
 "nbformat_minor": 2
}
